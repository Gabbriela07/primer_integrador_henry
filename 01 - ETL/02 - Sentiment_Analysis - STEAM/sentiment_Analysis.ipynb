{
 "cells": [
  {
   "cell_type": "markdown",
   "metadata": {},
   "source": [
    "# Analisis del sentimiento - STEAM"
   ]
  },
  {
   "cell_type": "markdown",
   "metadata": {},
   "source": [
    "DATO IMPORTANTE:\n",
    "- En una exploración manual, identifique que el archivo esta en diversos idiomas. Para alcanzar mas precision debere realizar cambios mas profundos y lo lograremos utilizaremos varias LIBRERIAS"
   ]
  },
  {
   "cell_type": "code",
   "execution_count": 21,
   "metadata": {},
   "outputs": [],
   "source": [
    "import pandas as pd\n",
    "import json\n",
    "import re\n",
    "from langdetect import detect\n",
    "from textblob import TextBlob\n",
    "from nltk.tokenize import word_tokenize\n",
    "from nltk.corpus import stopwords"
   ]
  },
  {
   "cell_type": "markdown",
   "metadata": {},
   "source": [
    "Declaramos la ruta del archivo con el cual trabajaremos y convertimos a DATAFRAME para poder interar sobre él."
   ]
  },
  {
   "cell_type": "code",
   "execution_count": 24,
   "metadata": {},
   "outputs": [],
   "source": [
    "archivo = 'reviews_limpio.csv'"
   ]
  },
  {
   "cell_type": "code",
   "execution_count": 25,
   "metadata": {},
   "outputs": [],
   "source": [
    "df = pd.read_csv(archivo)"
   ]
  },
  {
   "cell_type": "markdown",
   "metadata": {},
   "source": [
    "Comenzaremos eliminando los caracteres innecesarios o que pueden ocacionar errores durante nuestro analisis"
   ]
  },
  {
   "cell_type": "code",
   "execution_count": 26,
   "metadata": {},
   "outputs": [],
   "source": [
    "def limpieza(texto):\n",
    "    texto = re.sub(r'[^a-zA-Z\\s❤]', '', texto)  # Eliminar caracteres especiales, números y corazones\n",
    "    texto = texto.lower() # Convertimos todo a minuscula\n",
    "    palabras = word_tokenize(texto)  # Tokenización de palabras\n",
    "    palabras = [palabra for palabra in palabras if palabra not in stopwords.words('english')]\n",
    "    texto_limpio = ' '.join(palabras)\n",
    "    return texto_limpio\n"
   ]
  },
  {
   "cell_type": "code",
   "execution_count": 23,
   "metadata": {},
   "outputs": [],
   "source": []
  }
 ],
 "metadata": {
  "kernelspec": {
   "display_name": "Python 3",
   "language": "python",
   "name": "python3"
  },
  "language_info": {
   "codemirror_mode": {
    "name": "ipython",
    "version": 3
   },
   "file_extension": ".py",
   "mimetype": "text/x-python",
   "name": "python",
   "nbconvert_exporter": "python",
   "pygments_lexer": "ipython3",
   "version": "3.12.0"
  }
 },
 "nbformat": 4,
 "nbformat_minor": 2
}
