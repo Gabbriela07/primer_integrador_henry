{
 "cells": [
  {
   "cell_type": "markdown",
   "metadata": {},
   "source": [
    "# CREACIÓN DE LOS DATAFRAME PARA PODER INTERAR CON PANDAS"
   ]
  },
  {
   "cell_type": "markdown",
   "metadata": {},
   "source": [
    "Importamos librerias necesarias para nuestros primeros pasos"
   ]
  },
  {
   "cell_type": "code",
   "execution_count": 1,
   "metadata": {},
   "outputs": [],
   "source": [
    "import pandas as pd\n",
    "import os"
   ]
  },
  {
   "cell_type": "markdown",
   "metadata": {},
   "source": [
    "Importamos rutas de los archivos para hacer los DATAFRAME y poder trabajar y realizar las modificaciones necesarias. "
   ]
  },
  {
   "cell_type": "code",
   "execution_count": 36,
   "metadata": {},
   "outputs": [],
   "source": [
    "archivo1 = 'steam_games.csv' "
   ]
  },
  {
   "cell_type": "code",
   "execution_count": 37,
   "metadata": {},
   "outputs": [],
   "source": [
    "archivo2 = 'user_items.csv'"
   ]
  },
  {
   "cell_type": "code",
   "execution_count": 38,
   "metadata": {},
   "outputs": [],
   "source": [
    "archivo3 = 'user_reviews.csv'"
   ]
  },
  {
   "cell_type": "markdown",
   "metadata": {},
   "source": [
    "Creamos una funcion para los dataSet y asi modificar los 3 archivos juntos"
   ]
  },
  {
   "cell_type": "code",
   "execution_count": 39,
   "metadata": {},
   "outputs": [],
   "source": [
    "def carga_dataset(archivo):\n",
    "    return pd.read_csv(archivo)"
   ]
  },
  {
   "cell_type": "markdown",
   "metadata": {},
   "source": [
    "convertimos en DF con la funcion generada en el paso anterior"
   ]
  },
  {
   "cell_type": "code",
   "execution_count": 40,
   "metadata": {},
   "outputs": [
    {
     "name": "stderr",
     "output_type": "stream",
     "text": [
      "C:\\Users\\Usuario\\AppData\\Local\\Temp\\ipykernel_8968\\768806422.py:2: DtypeWarning: Columns (0,1,2,3,4,5,6,7,8,9,12) have mixed types. Specify dtype option on import or set low_memory=False.\n",
      "  return pd.read_csv(archivo)\n"
     ]
    }
   ],
   "source": [
    "df1 = carga_dataset(archivo1)"
   ]
  },
  {
   "cell_type": "code",
   "execution_count": 41,
   "metadata": {},
   "outputs": [],
   "source": [
    "df2 = carga_dataset(archivo2)"
   ]
  },
  {
   "cell_type": "code",
   "execution_count": 42,
   "metadata": {},
   "outputs": [],
   "source": [
    "df3 = carga_dataset(archivo3)"
   ]
  },
  {
   "cell_type": "markdown",
   "metadata": {},
   "source": [
    "# ELIMINACION DE COLUMNAS NO NECESARIAS PARA NUESTRO PROYECTO"
   ]
  },
  {
   "cell_type": "markdown",
   "metadata": {},
   "source": [
    "Columnas comunes en los df\n",
    "\n",
    "    - user_id o 'id' = la identificaciòn del usuario no es necesaria\n",
    "    - user_url o 'url' = No es necesaria para el modelo\n",
    "Archivo 1 (steam_game)\n",
    "\n",
    "    - steam_id =  No agrega info valiosa\n",
    "\n",
    "Archivo 2 (user_items) \n",
    "\n",
    "    - steam_id = No agrega info valiosa\n",
    "    - items_count = La cantidad de articulos que tiene el usuario es relevante???\n",
    "\n",
    "Archivo 3 (user_reviews)\n",
    "\n",
    "    - reviews = todavia no hago la columna de analisis de sentimiento"
   ]
  },
  {
   "cell_type": "markdown",
   "metadata": {},
   "source": [
    "Generamos una función para eliminar columnas comunes en los 3 archivos"
   ]
  },
  {
   "cell_type": "code",
   "execution_count": 44,
   "metadata": {},
   "outputs": [],
   "source": [
    "def eliminar_columnas(df,columnas_eliminar):\n",
    "    columnas_existentes = set(columnas_eliminar) & set (df.columns) #Nos seguramos que las columnas a eliminar existan\n",
    "    df = df.drop(columns=columnas_eliminar, errors='ignore') # si existen, las elimina.\n",
    "    return df"
   ]
  },
  {
   "cell_type": "code",
   "execution_count": 45,
   "metadata": {},
   "outputs": [],
   "source": [
    "columnas_comunes = ['user_id', 'user_url'] # Genero una lista para eliminar en nuestra funcion."
   ]
  },
  {
   "cell_type": "code",
   "execution_count": 46,
   "metadata": {},
   "outputs": [],
   "source": [
    "df1 = eliminar_columnas(df1, columnas_comunes)\n",
    "df2 = eliminar_columnas(df2, columnas_comunes)\n",
    "df3 = eliminar_columnas(df3, columnas_comunes)"
   ]
  },
  {
   "cell_type": "markdown",
   "metadata": {},
   "source": [
    "Columnas especificas de cada DataFrame"
   ]
  },
  {
   "cell_type": "code",
   "execution_count": 47,
   "metadata": {},
   "outputs": [],
   "source": [
    "columnas_df1 = ['reviews_url']\n",
    "columnas_df2 = ['steam_id', 'items_count']"
   ]
  },
  {
   "cell_type": "code",
   "execution_count": 48,
   "metadata": {},
   "outputs": [],
   "source": [
    "df1 = eliminar_columnas(df1, columnas_df1)\n",
    "df2 = eliminar_columnas(df2, columnas_df2)"
   ]
  },
  {
   "cell_type": "markdown",
   "metadata": {},
   "source": [
    "# Guardado de los dataframe"
   ]
  },
  {
   "cell_type": "markdown",
   "metadata": {},
   "source": [
    "Guardamos las modificaciones para seguir progresando en el proyecto"
   ]
  },
  {
   "cell_type": "code",
   "execution_count": 51,
   "metadata": {},
   "outputs": [],
   "source": [
    "df1.to_csv('C:/Users/Usuario/Desktop/steam/01 - ETL/02 - Sentiment_Analysis - STEAM/steam_limpio.csv', index= False)"
   ]
  },
  {
   "cell_type": "code",
   "execution_count": 52,
   "metadata": {},
   "outputs": [],
   "source": [
    "df2.to_csv('C:/Users/Usuario/Desktop/steam/01 - ETL/02 - Sentiment_Analysis - STEAM/items_limpio.csv', index= False)"
   ]
  },
  {
   "cell_type": "code",
   "execution_count": 53,
   "metadata": {},
   "outputs": [],
   "source": [
    "df3.to_csv('C:/Users/Usuario/Desktop/steam/01 - ETL/02 - Sentiment_Analysis - STEAM/reviews_limpio.csv', index= False)"
   ]
  }
 ],
 "metadata": {
  "kernelspec": {
   "display_name": "Python 3",
   "language": "python",
   "name": "python3"
  },
  "language_info": {
   "codemirror_mode": {
    "name": "ipython",
    "version": 3
   },
   "file_extension": ".py",
   "mimetype": "text/x-python",
   "name": "python",
   "nbconvert_exporter": "python",
   "pygments_lexer": "ipython3",
   "version": "3.12.0"
  }
 },
 "nbformat": 4,
 "nbformat_minor": 2
}
